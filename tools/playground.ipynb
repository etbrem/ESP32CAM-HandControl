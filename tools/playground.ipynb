{
 "cells": [
  {
   "cell_type": "code",
   "execution_count": 1,
   "id": "53981a7d-a7a4-4488-9544-76e822a36d75",
   "metadata": {},
   "outputs": [],
   "source": [
    "import os\n",
    "import time\n",
    "from receive_tcp_frames import stream_to_ipython, stream_to_file, stream_to_directory"
   ]
  },
  {
   "cell_type": "code",
   "execution_count": 2,
   "id": "e5181bba-e15f-4b7b-83cb-0126728743b7",
   "metadata": {},
   "outputs": [
    {
     "data": {
      "application/vnd.jupyter.widget-view+json": {
       "model_id": "d7c0abfaac2b441dbffdca8d08dc1d82",
       "version_major": 2,
       "version_minor": 0
      },
      "text/plain": [
       "Image(value=b'', format='jpeg')"
      ]
     },
     "metadata": {},
     "output_type": "display_data"
    }
   ],
   "source": [
    "IP = '192.168.1.149'\n",
    "PORT = 1337\n",
    "\n",
    "s1 = stream_to_ipython(IP, PORT)\n",
    "time.sleep(5)\n",
    "s1.clear()"
   ]
  },
  {
   "cell_type": "code",
   "execution_count": 8,
   "id": "1bc333de",
   "metadata": {},
   "outputs": [
    {
     "data": {
      "application/vnd.jupyter.widget-view+json": {
       "model_id": "7ef151188f3a4c52a1a80998010dabc6",
       "version_major": 2,
       "version_minor": 0
      },
      "text/plain": [
       "Image(value=b'', format='jpeg')"
      ]
     },
     "metadata": {},
     "output_type": "display_data"
    }
   ],
   "source": [
    "identifier = f'cup_{time.time()}'\n",
    "outdir = f'outputs/{identifier}.mp4'\n",
    "\n",
    "s1 = stream_to_ipython(IP, PORT)\n",
    "s2 = stream_to_directory(IP, PORT, outdir)\n",
    "time.sleep(15)\n",
    "s1.clear()\n",
    "s2.clear()"
   ]
  },
  {
   "cell_type": "code",
   "execution_count": null,
   "id": "1e6722bb",
   "metadata": {},
   "outputs": [],
   "source": [
    "# outdir = 'outputs'\n",
    "# identifier = time.time()\n",
    "\n",
    "# os.makedirs(outdir, exist_ok=True)\n",
    "\n",
    "# for i in range(3):\n",
    "#     outfile = os.path.join(outdir, f'{identifier}_{i}.mp4')\n",
    "    \n",
    "#     print(f'PREPARE YOURSELF for {outfile}!')\n",
    "#     stream_to_ipython(ESP32_IP, ESP32_PORT)\n",
    "#     time.sleep(3)\n",
    "#     SHOULD_LOOP.clear()\n",
    "#     time.sleep(1)\n",
    "\n",
    "#     stream_to_file(ESP32_IP, ESP32_PORT, outfile)\n",
    "#     time.sleep(10)\n",
    "\n",
    "#     SHOULD_LOOP.clear()"
   ]
  }
 ],
 "metadata": {
  "kernelspec": {
   "display_name": ".venv",
   "language": "python",
   "name": "python3"
  },
  "language_info": {
   "codemirror_mode": {
    "name": "ipython",
    "version": 3
   },
   "file_extension": ".py",
   "mimetype": "text/x-python",
   "name": "python",
   "nbconvert_exporter": "python",
   "pygments_lexer": "ipython3",
   "version": "3.12.3"
  }
 },
 "nbformat": 4,
 "nbformat_minor": 5
}
